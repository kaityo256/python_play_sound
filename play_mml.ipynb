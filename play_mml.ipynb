{
  "nbformat": 4,
  "nbformat_minor": 0,
  "metadata": {
    "colab": {
      "name": "play_mml.ipynb",
      "provenance": [],
      "collapsed_sections": [],
      "toc_visible": true
    },
    "kernelspec": {
      "name": "python3",
      "display_name": "Python 3"
    },
    "language_info": {
      "name": "python"
    }
  },
  "cells": [
    {
      "cell_type": "markdown",
      "source": [
        "# MMLの演奏及びピアノロールの演奏サンプル\n",
        "\n"
      ],
      "metadata": {
        "id": "CTTW7P3M3IFX"
      }
    },
    {
      "cell_type": "code",
      "execution_count": null,
      "metadata": {
        "id": "Ao8qJXoh8-oj"
      },
      "outputs": [],
      "source": [
        "import numpy as np\n",
        "import IPython"
      ]
    },
    {
      "cell_type": "markdown",
      "source": [
        "## 音を鳴らす\n"
      ],
      "metadata": {
        "id": "aYjVwa1T0bAg"
      }
    },
    {
      "cell_type": "markdown",
      "source": [
        "### ラの音(440Hz)を1秒鳴らす"
      ],
      "metadata": {
        "id": "ImVP8kkE-aMg"
      }
    },
    {
      "cell_type": "code",
      "source": [
        "rate = 48000\n",
        "duration = 1.0\n",
        "t = np.linspace(0., duration, int(rate*duration))\n",
        "x = np.sin(2.0*np.pi*440.0*t)\n",
        "IPython.display.Audio(x, rate=rate, autoplay=True)"
      ],
      "metadata": {
        "id": "XmZi-1qG0XZC"
      },
      "execution_count": null,
      "outputs": []
    },
    {
      "cell_type": "markdown",
      "source": [
        "### テンポ(BPM)を指定し、４分音符の長さだけ鳴らす\n",
        "\n",
        "BPM=120であるため、4分音符の長さは60/BPM=0.5秒"
      ],
      "metadata": {
        "id": "IpcSll5G0jVv"
      }
    },
    {
      "cell_type": "code",
      "source": [
        "rate = 48000\n",
        "BPM = 120\n",
        "qn_duration = 60.0/BPM\n",
        "t = np.linspace(0., qn_duration, int(rate*qn_duration))\n",
        "x = np.sin(2.0*np.pi*440.0*t)\n",
        "IPython.display.Audio(x, rate=rate, autoplay=True)"
      ],
      "metadata": {
        "id": "AW94VvpR9D8a"
      },
      "execution_count": null,
      "outputs": []
    },
    {
      "cell_type": "markdown",
      "source": [
        "## MMLの演奏\n",
        "\n",
        "周波数を12種類定義。ただし、`freqs[0]`は休符(周波数0)。"
      ],
      "metadata": {
        "id": "0qL1SsOJ3BvR"
      }
    },
    {
      "cell_type": "code",
      "source": [
        "freqs = [0] + [440.0 * 2.0**((i-9)/12.0) for i in range(12)]"
      ],
      "metadata": {
        "id": "jdxDYOVPDA_S"
      },
      "execution_count": null,
      "outputs": []
    },
    {
      "cell_type": "markdown",
      "source": [
        "MMLとfreqsのインデックスの対応辞書を作る。"
      ],
      "metadata": {
        "id": "mdPWn0b13qza"
      }
    },
    {
      "cell_type": "code",
      "source": [
        "notes = [\"R\", \"C\",\"C#\",\"D\",\"D#\",\"E\",\"F\",\"F#\",\"G\",\"G#\",\"A\",\"A#\",\"B\"]\n",
        "dic = {}\n",
        "for i, s in enumerate(notes):\n",
        "    dic[s] = i"
      ],
      "metadata": {
        "id": "9GMQgm88Dj3n"
      },
      "execution_count": null,
      "outputs": []
    },
    {
      "cell_type": "markdown",
      "source": [
        "MMLを受け取って音を鳴らす関数"
      ],
      "metadata": {
        "id": "RDxya4Hy30rz"
      }
    },
    {
      "cell_type": "code",
      "source": [
        "def play_mml(mml):\n",
        "    rate =48000\n",
        "    BPM = 120\n",
        "    qn_duration = 60.0/BPM\n",
        "    t = np.linspace(0.0, qn_duration, int(rate*qn_duration))\n",
        "    music = np.array([])\n",
        "    for s in list(mml):\n",
        "        f = freqs[dic[s]]\n",
        "        music = np.append(music, np.sin(2.0*np.pi*f*t))\n",
        "    return IPython.display.Audio(music, rate=rate, autoplay=True)"
      ],
      "metadata": {
        "id": "FRWD1Tf-9am8"
      },
      "execution_count": null,
      "outputs": []
    },
    {
      "cell_type": "code",
      "source": [
        "# キラキラ星\n",
        "mml_twinkle_star = \"CCGGAAGRFFEEDDCRGGFFEEDRGGFFEEDRCCGGAAGRFFEEDDCR\"\n",
        "play_mml(mml_twinkle_star)"
      ],
      "metadata": {
        "id": "w2zXgMzyHEev"
      },
      "execution_count": null,
      "outputs": []
    },
    {
      "cell_type": "code",
      "source": [
        "# かえるのうた\n",
        "mml_frog_song = \"CDEFEDCREFGAGFERCRCRCRCRCDEFEDCR\"\n",
        "play_mml(mml_frog_song)"
      ],
      "metadata": {
        "id": "OUFkR-oPHHZH"
      },
      "execution_count": null,
      "outputs": []
    },
    {
      "cell_type": "markdown",
      "source": [
        "## ピアノロールからの演奏\n",
        "`qn_length`は、4分音符のドット数"
      ],
      "metadata": {
        "id": "GRp8sPcF4FdF"
      }
    },
    {
      "cell_type": "code",
      "source": [
        "from PIL import Image, ImageDraw, ImageFont\n",
        "qn_length = 8"
      ],
      "metadata": {
        "id": "RIzTRdjRa_zK"
      },
      "execution_count": null,
      "outputs": []
    },
    {
      "cell_type": "markdown",
      "source": [
        "### MMLからピアノロール作成\n",
        "\n",
        "MMLからNumPy配列を作る関数。y座標は12行。ドからシまでに対応。"
      ],
      "metadata": {
        "id": "VN1_-mRD4LZP"
      }
    },
    {
      "cell_type": "code",
      "source": [
        "def mml2data(mml):\n",
        "    data = np.zeros((12, qn_length*len(mml)), dtype=np.uint8)\n",
        "    for i, s in enumerate(list(mml)):\n",
        "        if s == \"R\":\n",
        "            continue\n",
        "        j = notes.index(s) - 1\n",
        "        data[11-j, (i*qn_length):((i+1)*qn_length)] = 255\n",
        "    return data"
      ],
      "metadata": {
        "id": "m_1ZvJTnds6b"
      },
      "execution_count": null,
      "outputs": []
    },
    {
      "cell_type": "code",
      "source": [
        "# キラキラ星\n",
        "data = mml2data(\"CCGGAAGRFFEEDDCRGGFFEEDRGGFFEEDRCCGGAAGRFFEEDDCR\")\n",
        "Image.fromarray(data)"
      ],
      "metadata": {
        "id": "q4cDhTaadR5k"
      },
      "execution_count": null,
      "outputs": []
    },
    {
      "cell_type": "code",
      "source": [
        "data = mml2data(\"CDEFEDCREFGAGFERCRCRCRCRCDEFEDCR\")\n",
        "Image.fromarray(data)"
      ],
      "metadata": {
        "id": "h0LKAF-e8-Nw"
      },
      "execution_count": null,
      "outputs": []
    },
    {
      "cell_type": "markdown",
      "source": [
        "既存の既存のデータのMMLを追加(輪唱用)。"
      ],
      "metadata": {
        "id": "C94CfG4T4e4C"
      }
    },
    {
      "cell_type": "code",
      "source": [
        "def mml2data_append(data,mml):\n",
        "    for i, s in enumerate(list(mml)):\n",
        "        if s == \"R\":\n",
        "            continue\n",
        "        j = notes.index(s) - 1\n",
        "        data[11-j, (i*qn_length):((i+1)*qn_length)] = 255\n",
        "    return data"
      ],
      "metadata": {
        "id": "tu0Ghpjo11s0"
      },
      "execution_count": null,
      "outputs": []
    },
    {
      "cell_type": "code",
      "source": [
        "# かえるのうた(輪唱)\n",
        "data = mml2data(\"CDEFEDCREFGAGFERCRCRCRCRCDEFEDCR\")\n",
        "data = mml2data_append(data, \"RRRRRRRRCDEFEDCREFGAGFERCRCRCRCR\")\n",
        "data = mml2data_append(data, \"RRRRRRRRRRRRRRRRCDEFEDCREFGAGFER\")\n",
        "Image.fromarray(data)"
      ],
      "metadata": {
        "id": "H1_TT-R019gk"
      },
      "execution_count": null,
      "outputs": []
    },
    {
      "cell_type": "markdown",
      "source": [
        "### MMLから音に変換"
      ],
      "metadata": {
        "id": "dpe3BIeh6wLr"
      }
    },
    {
      "cell_type": "code",
      "source": [
        "def data2audio(img):\n",
        "    _, length = img.shape\n",
        "    rate =48000\n",
        "    BPM = 120\n",
        "    qn_duration = 60.0/BPM\n",
        "    x = np.zeros(int(length / qn_length * qn_duration * rate))\n",
        "    note_on = False\n",
        "    start = 0\n",
        "    for i in range(12):\n",
        "        for j in range(length):\n",
        "            if note_on:\n",
        "                if img[i][j] == 0:\n",
        "                    note_on = False\n",
        "                    start = start / qn_length\n",
        "                    end = j / qn_length\n",
        "                    note_length = end - start\n",
        "                    note_len_r = int(note_length*qn_duration*rate)\n",
        "                    t = np.linspace(0.0, note_length*qn_duration, note_len_r)\n",
        "                    start_r = int(start * qn_duration * rate)\n",
        "                    x[start_r:start_r+note_len_r] += np.sin(2.0*np.pi*freqs[12-i]*t)\n",
        "            else:\n",
        "                if img[i][j] == 255:\n",
        "                    note_on = True\n",
        "                    start = j\n",
        "    return IPython.display.Audio(x, rate=rate, autoplay=True)"
      ],
      "metadata": {
        "id": "iLqQTQEH1JCm"
      },
      "execution_count": null,
      "outputs": []
    },
    {
      "cell_type": "code",
      "source": [
        "data = mml2data(\"CCGGAAGRFFEEDDCRGGFFEEDRGGFFEEDRCCGGAAGRFFEEDDCR\")\n",
        "IPython.display.display(Image.fromarray(data))\n",
        "data2audio(data)"
      ],
      "metadata": {
        "id": "s-7-2_u242nT"
      },
      "execution_count": null,
      "outputs": []
    },
    {
      "cell_type": "code",
      "source": [
        "data = mml2data(\"CDEFEDCREFGAGFERCRCRCRCRCDEFEDCR\")\n",
        "data = mml2data_append(data, \"RRRRRRRRCDEFEDCREFGAGFERCRCRCRCR\")\n",
        "data = mml2data_append(data, \"RRRRRRRRRRRRRRRRCDEFEDCREFGAGFER\")\n",
        "IPython.display.display(Image.fromarray(data))\n",
        "data2audio(data)"
      ],
      "metadata": {
        "id": "1R_MS9b-1Xnn"
      },
      "execution_count": null,
      "outputs": []
    }
  ]
}