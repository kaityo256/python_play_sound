{
 "cells": [
  {
   "cell_type": "markdown",
   "metadata": {
    "id": "CTTW7P3M3IFX"
   },
   "source": [
    "# MMLの演奏及びピアノロールの演奏サンプル\n",
    "\n"
   ]
  },
  {
   "cell_type": "code",
   "execution_count": null,
   "metadata": {
    "id": "Ao8qJXoh8-oj"
   },
   "outputs": [],
   "source": [
    "import numpy as np\n",
    "import IPython"
   ]
  },
  {
   "cell_type": "markdown",
   "metadata": {
    "id": "aYjVwa1T0bAg"
   },
   "source": [
    "## 音を鳴らす\n"
   ]
  },
  {
   "cell_type": "markdown",
   "metadata": {
    "id": "ImVP8kkE-aMg"
   },
   "source": [
    "### ラの音(440Hz)を1秒鳴らす"
   ]
  },
  {
   "cell_type": "code",
   "execution_count": null,
   "metadata": {
    "id": "XmZi-1qG0XZC"
   },
   "outputs": [],
   "source": [
    "rate = 48000\n",
    "duration = 1.0\n",
    "t = np.linspace(0., duration, int(rate*duration))\n",
    "x = np.sin(2.0*np.pi*440.0*t)\n",
    "IPython.display.Audio(x, rate=rate, autoplay=True)"
   ]
  },
  {
   "cell_type": "markdown",
   "metadata": {
    "id": "IpcSll5G0jVv"
   },
   "source": [
    "### テンポ(BPM)を指定し、４分音符の長さだけ鳴らす\n",
    "\n",
    "BPM=120であるため、4分音符の長さは60/BPM=0.5秒"
   ]
  },
  {
   "cell_type": "code",
   "execution_count": null,
   "metadata": {
    "id": "AW94VvpR9D8a"
   },
   "outputs": [],
   "source": [
    "rate = 48000\n",
    "BPM = 120\n",
    "qn_duration = 60.0/BPM\n",
    "t = np.linspace(0., qn_duration, int(rate*qn_duration))\n",
    "x = np.sin(2.0*np.pi*440.0*t)\n",
    "IPython.display.Audio(x, rate=rate, autoplay=True)"
   ]
  },
  {
   "cell_type": "markdown",
   "metadata": {
    "id": "0qL1SsOJ3BvR"
   },
   "source": [
    "## MMLの演奏\n",
    "\n",
    "周波数を12種類定義。ただし、`freqs[0]`は休符(周波数0)。"
   ]
  },
  {
   "cell_type": "code",
   "execution_count": null,
   "metadata": {
    "id": "jdxDYOVPDA_S"
   },
   "outputs": [],
   "source": [
    "freqs = [0] + [440.0 * 2.0**((i-9)/12.0) for i in range(12)]"
   ]
  },
  {
   "cell_type": "markdown",
   "metadata": {
    "id": "mdPWn0b13qza"
   },
   "source": [
    "MMLとfreqsのインデックスの対応辞書を作る。"
   ]
  },
  {
   "cell_type": "code",
   "execution_count": null,
   "metadata": {
    "id": "9GMQgm88Dj3n"
   },
   "outputs": [],
   "source": [
    "notes = [\"R\", \"C\",\"C#\",\"D\",\"D#\",\"E\",\"F\",\"F#\",\"G\",\"G#\",\"A\",\"A#\",\"B\"]\n",
    "dic = {}\n",
    "for i, s in enumerate(notes):\n",
    "    dic[s] = i"
   ]
  },
  {
   "cell_type": "markdown",
   "metadata": {
    "id": "RDxya4Hy30rz"
   },
   "source": [
    "MMLを受け取って音を鳴らす関数"
   ]
  },
  {
   "cell_type": "code",
   "execution_count": null,
   "metadata": {
    "id": "FRWD1Tf-9am8"
   },
   "outputs": [],
   "source": [
    "def play_mml(mml):\n",
    "    rate =48000\n",
    "    BPM = 120\n",
    "    qn_duration = 60.0/BPM\n",
    "    t = np.linspace(0.0, qn_duration, int(rate*qn_duration))\n",
    "    music = np.array([])\n",
    "    for s in list(mml):\n",
    "        f = freqs[dic[s]]\n",
    "        music = np.append(music, np.sin(2.0*np.pi*f*t))\n",
    "    return IPython.display.Audio(music, rate=rate, autoplay=True)"
   ]
  },
  {
   "cell_type": "code",
   "execution_count": null,
   "metadata": {
    "id": "w2zXgMzyHEev"
   },
   "outputs": [],
   "source": [
    "# キラキラ星\n",
    "mml_twinkle_star = \"CCGGAAGRFFEEDDCRGGFFEEDRGGFFEEDRCCGGAAGRFFEEDDCR\"\n",
    "play_mml(mml_twinkle_star)"
   ]
  },
  {
   "cell_type": "code",
   "execution_count": null,
   "metadata": {
    "id": "OUFkR-oPHHZH"
   },
   "outputs": [],
   "source": [
    "# かえるのうた\n",
    "mml_frog_song = \"CDEFEDCREFGAGFERCRCRCRCRCDEFEDCR\"\n",
    "play_mml(mml_frog_song)"
   ]
  },
  {
   "cell_type": "markdown",
   "metadata": {
    "id": "GRp8sPcF4FdF"
   },
   "source": [
    "## ピアノロールからの演奏\n",
    "`qn_length`は、4分音符のドット数"
   ]
  },
  {
   "cell_type": "code",
   "execution_count": null,
   "metadata": {
    "id": "RIzTRdjRa_zK"
   },
   "outputs": [],
   "source": [
    "from PIL import Image, ImageDraw, ImageFont\n",
    "qn_length = 8"
   ]
  },
  {
   "cell_type": "markdown",
   "metadata": {
    "id": "VN1_-mRD4LZP"
   },
   "source": [
    "### MMLからピアノロール作成\n",
    "\n",
    "MMLからNumPy配列を作る関数。y座標は12行。ドからシまでに対応。"
   ]
  },
  {
   "cell_type": "code",
   "execution_count": null,
   "metadata": {
    "id": "m_1ZvJTnds6b"
   },
   "outputs": [],
   "source": [
    "def mml2data(mml):\n",
    "    data = np.zeros((12, qn_length*len(mml)), dtype=np.uint8)\n",
    "    for i, s in enumerate(list(mml)):\n",
    "        if s == \"R\":\n",
    "            continue\n",
    "        j = notes.index(s) - 1\n",
    "        data[11-j, (i*qn_length):((i+1)*qn_length)] = 255\n",
    "    return data"
   ]
  },
  {
   "cell_type": "code",
   "execution_count": null,
   "metadata": {
    "id": "q4cDhTaadR5k"
   },
   "outputs": [],
   "source": [
    "# キラキラ星\n",
    "data = mml2data(\"CCGGAAGRFFEEDDCRGGFFEEDRGGFFEEDRCCGGAAGRFFEEDDCR\")\n",
    "Image.fromarray(data)"
   ]
  },
  {
   "cell_type": "code",
   "execution_count": null,
   "metadata": {
    "id": "h0LKAF-e8-Nw"
   },
   "outputs": [],
   "source": [
    "data = mml2data(\"CDEFEDCREFGAGFERCRCRCRCRCDEFEDCR\")\n",
    "Image.fromarray(data)"
   ]
  },
  {
   "cell_type": "markdown",
   "metadata": {
    "id": "C94CfG4T4e4C"
   },
   "source": [
    "既存の既存のデータのMMLを追加(輪唱用)。"
   ]
  },
  {
   "cell_type": "code",
   "execution_count": null,
   "metadata": {
    "id": "tu0Ghpjo11s0"
   },
   "outputs": [],
   "source": [
    "def mml2data_append(data,mml):\n",
    "    for i, s in enumerate(list(mml)):\n",
    "        if s == \"R\":\n",
    "            continue\n",
    "        j = notes.index(s) - 1\n",
    "        data[11-j, (i*qn_length):((i+1)*qn_length)] = 255\n",
    "    return data"
   ]
  },
  {
   "cell_type": "code",
   "execution_count": null,
   "metadata": {
    "id": "H1_TT-R019gk"
   },
   "outputs": [],
   "source": [
    "# かえるのうた(輪唱)\n",
    "data = mml2data(\"CDEFEDCREFGAGFERCRCRCRCRCDEFEDCR\")\n",
    "data = mml2data_append(data, \"RRRRRRRRCDEFEDCREFGAGFERCRCRCRCR\")\n",
    "data = mml2data_append(data, \"RRRRRRRRRRRRRRRRCDEFEDCREFGAGFER\")\n",
    "Image.fromarray(data)"
   ]
  },
  {
   "cell_type": "markdown",
   "metadata": {
    "id": "dpe3BIeh6wLr"
   },
   "source": [
    "### MMLから音に変換"
   ]
  },
  {
   "cell_type": "code",
   "execution_count": null,
   "metadata": {
    "id": "iLqQTQEH1JCm"
   },
   "outputs": [],
   "source": [
    "def data2audio(img):\n",
    "    _, length = img.shape\n",
    "    rate =48000\n",
    "    BPM = 120\n",
    "    qn_duration = 60.0/BPM\n",
    "    x = np.zeros(int(length / qn_length * qn_duration * rate))\n",
    "    for i in range(12):\n",
    "        note_on = False\n",
    "        start = 0\n",
    "        for j in range(length):\n",
    "            if note_on:\n",
    "                if img[i][j] == 0:\n",
    "                    note_on = False\n",
    "                    start = start / qn_length\n",
    "                    end = j / qn_length\n",
    "                    note_length = end - start\n",
    "                    note_len_r = int(note_length*qn_duration*rate)\n",
    "                    t = np.linspace(0.0, note_length*qn_duration, note_len_r)\n",
    "                    start_r = int(start * qn_duration * rate)\n",
    "                    x[start_r:start_r+note_len_r] += np.sin(2.0*np.pi*freqs[12-i]*t)\n",
    "            else:\n",
    "                if img[i][j] == 255:\n",
    "                    note_on = True\n",
    "                    start = j\n",
    "    return IPython.display.Audio(x, rate=rate, autoplay=True)"
   ]
  },
  {
   "cell_type": "code",
   "execution_count": null,
   "metadata": {
    "id": "s-7-2_u242nT"
   },
   "outputs": [],
   "source": [
    "data = mml2data(\"CCGGAAGRFFEEDDCRGGFFEEDRGGFFEEDRCCGGAAGRFFEEDDCR\")\n",
    "IPython.display.display(Image.fromarray(data))\n",
    "data2audio(data)"
   ]
  },
  {
   "cell_type": "code",
   "execution_count": null,
   "metadata": {
    "id": "1R_MS9b-1Xnn"
   },
   "outputs": [],
   "source": [
    "data = mml2data(\"CDEFEDCREFGAGFERCRCRCRCRCDEFEDCR\")\n",
    "data = mml2data_append(data, \"RRRRRRRRCDEFEDCREFGAGFERCRCRCRCR\")\n",
    "data = mml2data_append(data, \"RRRRRRRRRRRRRRRRCDEFEDCREFGAGFER\")\n",
    "IPython.display.display(Image.fromarray(data))\n",
    "data2audio(data)"
   ]
  },
  {
   "cell_type": "code",
   "execution_count": null,
   "metadata": {},
   "outputs": [],
   "source": []
  }
 ],
 "metadata": {
  "colab": {
   "collapsed_sections": [],
   "name": "play_mml.ipynb",
   "provenance": [],
   "toc_visible": true
  },
  "kernelspec": {
   "display_name": "Python 3 (ipykernel)",
   "language": "python",
   "name": "python3"
  },
  "language_info": {
   "codemirror_mode": {
    "name": "ipython",
    "version": 3
   },
   "file_extension": ".py",
   "mimetype": "text/x-python",
   "name": "python",
   "nbconvert_exporter": "python",
   "pygments_lexer": "ipython3",
   "version": "3.10.10"
  }
 },
 "nbformat": 4,
 "nbformat_minor": 1
}
