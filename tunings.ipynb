{
  "nbformat": 4,
  "nbformat_minor": 0,
  "metadata": {
    "colab": {
      "name": "tunings.ipynb",
      "provenance": [],
      "collapsed_sections": []
    },
    "kernelspec": {
      "name": "python3",
      "display_name": "Python 3"
    },
    "language_info": {
      "name": "python"
    }
  },
  "cells": [
    {
      "cell_type": "markdown",
      "source": [
        "# 三種類の音律を聴き比べる"
      ],
      "metadata": {
        "id": "9i627vXHKz_A"
      }
    },
    {
      "cell_type": "code",
      "execution_count": null,
      "metadata": {
        "id": "7yavibPVEefM"
      },
      "outputs": [],
      "source": [
        "import numpy as np\n",
        "import IPython\n",
        "from fractions import Fraction"
      ]
    },
    {
      "cell_type": "markdown",
      "source": [
        "## ピタゴラス音律"
      ],
      "metadata": {
        "id": "paGlUWl7KvM5"
      }
    },
    {
      "cell_type": "code",
      "source": [
        "ratio_p = [1] * 8\n",
        "\n",
        "ratio_p[7] = ratio_p[0] * 2  # C->C\n",
        "\n",
        "ratio_p[4] = ratio_p[0] * Fraction(3, 2)      # C->G\n",
        "ratio_p[1] = ratio_p[4] * Fraction(3, 2) / 2  # G->D\n",
        "ratio_p[5] = ratio_p[1] * Fraction(3, 2)      # D->A\n",
        "ratio_p[2] = ratio_p[5] * Fraction(3, 2) / 2  # A->E\n",
        "ratio_p[6] = ratio_p[2] * Fraction(3, 2)      # E->B\n",
        "\n",
        "ratio_p[3] = ratio_p[0] * Fraction(2, 3) * 2  # C->F\n",
        "\n",
        "for n, r in zip(list(\"CDEFGABC\"), ratio_p):\n",
        "    print(f\"{n}: {r}\")"
      ],
      "metadata": {
        "id": "9WJ4YGkQEhna"
      },
      "execution_count": null,
      "outputs": []
    },
    {
      "cell_type": "markdown",
      "source": [
        "## 純正律"
      ],
      "metadata": {
        "id": "Ru8kL64dK73V"
      }
    },
    {
      "cell_type": "code",
      "source": [
        "ratio_j = [1] * 8\n",
        "ratio_j[7] = ratio_j[0] * 2  # C->C\n",
        "\n",
        "# C:E:G = 4:5:6\n",
        "ratio_j[2] = ratio_j[0] * Fraction(5, 4)\n",
        "ratio_j[4] = ratio_j[0] * Fraction(6, 4)\n",
        "\n",
        "# G:B:D = 4:5:6\n",
        "ratio_j[6] = ratio_j[4] * Fraction(5, 4)\n",
        "ratio_j[1] = ratio_j[4] * Fraction(6, 4) / 2\n",
        "\n",
        "# F:A:C = 4:5:6\n",
        "ratio_j[3] = ratio_j[0] * Fraction(4, 6) * 2\n",
        "ratio_j[5] = ratio_j[0] * Fraction(5, 6) * 2\n",
        "\n",
        "for n, r in zip(list(\"CDEFGABC\"), ratio_j):\n",
        "    print(f\"{n}: {r}\")"
      ],
      "metadata": {
        "id": "nXIEpIAsF3x3"
      },
      "execution_count": null,
      "outputs": []
    },
    {
      "cell_type": "markdown",
      "source": [
        "## 平均律"
      ],
      "metadata": {
        "id": "RQWTxoI4K-OO"
      }
    },
    {
      "cell_type": "code",
      "source": [
        "n = [0, 2, 4, 5, 7, 9, 11, 12]\n",
        "ratio_e = [2**(i/12.0) for i in n]\n",
        "\n",
        "for n, r in zip(list(\"CDEFGABC\"), ratio_e):\n",
        "    print(f\"{n}: {r}\")"
      ],
      "metadata": {
        "id": "vTFw_ScbF8oY"
      },
      "execution_count": null,
      "outputs": []
    },
    {
      "cell_type": "markdown",
      "source": [
        "## 周波数比を周波数に変換"
      ],
      "metadata": {
        "id": "zClbQUuVLMLe"
      }
    },
    {
      "cell_type": "code",
      "source": [
        "freq_p = [440.0 / ratio_p[5] * ratio_p[i] for i in range(8)]\n",
        "freq_j = [440.0 / ratio_j[5] * ratio_j[i] for i in range(8)]\n",
        "freq_e = [440.0 / ratio_e[5] * ratio_e[i] for i in range(8)]\n",
        "\n",
        "for i, r in enumerate(list(\"CDEFGABC\")):\n",
        "    print(f\"{r} {freq_p[i]:.2f} {freq_j[i]:.2f} {freq_e[i]:.2f}\")"
      ],
      "metadata": {
        "id": "jycOdRkxEvn5"
      },
      "execution_count": null,
      "outputs": []
    },
    {
      "cell_type": "markdown",
      "source": [
        "## ドレミファソラシド"
      ],
      "metadata": {
        "id": "swznpmroLBWn"
      }
    },
    {
      "cell_type": "code",
      "source": [
        "def play_all(freq):\n",
        "    rate = 48000\n",
        "    duration = 0.5\n",
        "    x = np.zeros(int(rate * duration * 8))\n",
        "    for i in range(8):\n",
        "        t = np.linspace(0., duration, int(rate * duration))\n",
        "        start = int(rate * duration * i)\n",
        "        end = int(rate * duration * (i + 1))\n",
        "        x[start:end] = np.sin(2.0 * np.pi * freq[i] * t)\n",
        "    return IPython.display.Audio(x, rate=rate, autoplay=True)"
      ],
      "metadata": {
        "id": "ulXiW33CFPVb"
      },
      "execution_count": null,
      "outputs": []
    },
    {
      "cell_type": "code",
      "source": [
        "# ピタゴラス音律\n",
        "play_all(freq_p)"
      ],
      "metadata": {
        "id": "z0Vs94ONISwE"
      },
      "execution_count": null,
      "outputs": []
    },
    {
      "cell_type": "code",
      "source": [
        "# 純正律\n",
        "play_all(freq_j)"
      ],
      "metadata": {
        "id": "AAl0ZbukIXGZ"
      },
      "execution_count": null,
      "outputs": []
    },
    {
      "cell_type": "code",
      "source": [
        "# 平均律\n",
        "play_all(freq_e)"
      ],
      "metadata": {
        "id": "8QaIH8YgId30"
      },
      "execution_count": null,
      "outputs": []
    },
    {
      "cell_type": "markdown",
      "source": [
        "## 和音(CEGC)"
      ],
      "metadata": {
        "id": "6ZxP0HhwLWOC"
      }
    },
    {
      "cell_type": "code",
      "source": [
        "def play_CEGC(freq):\n",
        "    rate = 48000\n",
        "    duration = 1.0\n",
        "    rd = int(rate * duration)\n",
        "    x = np.zeros(rd * 4)\n",
        "    t = np.linspace(0., duration * 4, rd * 4)\n",
        "    x[0:rd * 4] += np.sin(2.0 * np.pi * freq[0] * t)\n",
        "    t = np.linspace(0., duration * 3, rd * 3)\n",
        "    x[rd:rd * 4] += np.sin(2.0 * np.pi * freq[2] * t)\n",
        "    t = np.linspace(0., duration * 2, rd * 2)\n",
        "    x[rd * 2:rd * 4] += np.sin(2.0 * np.pi * freq[4] * t)\n",
        "    t = np.linspace(0., duration * 1, rd)\n",
        "    x[rd * 3:rd * 4] += np.sin(2.0 * np.pi * freq[7] * t)\n",
        "    return IPython.display.Audio(x, rate=rate, autoplay=True)"
      ],
      "metadata": {
        "id": "tQsIdFzUJANC"
      },
      "execution_count": null,
      "outputs": []
    },
    {
      "cell_type": "code",
      "source": [
        "# ピタゴラス音律\n",
        "play_CEGC(freq_p)"
      ],
      "metadata": {
        "id": "d3BP1wIiJytw"
      },
      "execution_count": null,
      "outputs": []
    },
    {
      "cell_type": "code",
      "source": [
        "# 純正律\n",
        "play_CEGC(freq_j)"
      ],
      "metadata": {
        "id": "FxPpu-VRJ1-3"
      },
      "execution_count": null,
      "outputs": []
    },
    {
      "cell_type": "code",
      "source": [
        "# 平均律\n",
        "play_CEGC(freq_e)"
      ],
      "metadata": {
        "id": "mxqMIXdNKTNU"
      },
      "execution_count": null,
      "outputs": []
    },
    {
      "cell_type": "code",
      "source": [
        "def play_two(freq1, freq2):\n",
        "    rate = 48000\n",
        "    duration = 4.0\n",
        "    t = np.linspace(0., duration, int(rate * duration))\n",
        "    x = np.sin(2.0 * np.pi * freq1 * t)\n",
        "    x += np.sin(2.0 * np.pi * freq2 * t)\n",
        "    return IPython.display.Audio(x, rate=rate, autoplay=True)"
      ],
      "metadata": {
        "id": "_3eChqKHKWQi"
      },
      "execution_count": null,
      "outputs": []
    },
    {
      "cell_type": "code",
      "source": [
        "# ピタゴラス音律と純正律\n",
        "play_two(freq_p[0],freq_j[0])"
      ],
      "metadata": {
        "id": "LfgUjhTEMKBv"
      },
      "execution_count": null,
      "outputs": []
    },
    {
      "cell_type": "code",
      "source": [
        "# 純正律と平均律\n",
        "play_two(freq_j[0],freq_e[0])"
      ],
      "metadata": {
        "id": "iKP0N45fMbWo"
      },
      "execution_count": null,
      "outputs": []
    },
    {
      "cell_type": "code",
      "source": [
        "# ピタゴラス音律と平均律\n",
        "play_two(freq_p[0],freq_e[0])"
      ],
      "metadata": {
        "id": "mlrZ_ro6MRAP"
      },
      "execution_count": null,
      "outputs": []
    },
    {
      "cell_type": "code",
      "source": [
        ""
      ],
      "metadata": {
        "id": "2L9pUMUBMf_0"
      },
      "execution_count": null,
      "outputs": []
    }
  ]
}